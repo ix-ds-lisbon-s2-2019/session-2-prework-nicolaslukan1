{
 "cells": [
  {
   "cell_type": "markdown",
   "metadata": {},
   "source": [
    "# Prework Assignment"
   ]
  },
  {
   "cell_type": "markdown",
   "metadata": {},
   "source": [
    "### General Background Questions"
   ]
  },
  {
   "cell_type": "markdown",
   "metadata": {},
   "source": [
    "1. Why is version control important in science?"
   ]
  },
  {
   "cell_type": "code",
   "execution_count": 1,
   "metadata": {},
   "outputs": [],
   "source": [
    "Version control allows you manage and track files, which proves helpful in numerous cases.\n",
    "If errors are made in the process of a project, version control allows you to go back and fix those errors easily,\n",
    "which is important in any science as it allows the process of trial and error to work effectively. In addition, it\n",
    "makes peer collaboration very simple, which is crucial as peer review is the pinnacle of most scientific theories."
   ]
  },
  {
   "cell_type": "markdown",
   "metadata": {},
   "source": [
    "2. What kind of research artifacts can we track with Git?"
   ]
  },
  {
   "cell_type": "code",
   "execution_count": 1,
   "metadata": {},
   "outputs": [],
   "source": [
    "Git can store many different types of reseach artifacts. It can store text files, which can be manuscripts or \n",
    "spreadsheets and datasets with accompanying statistcal figures"
   ]
  },
  {
   "cell_type": "markdown",
   "metadata": {},
   "source": [
    "3. What are the three main things that can go wrong in a data science project?"
   ]
  },
  {
   "cell_type": "code",
   "execution_count": 1,
   "metadata": {},
   "outputs": [],
   "source": [
    "Firstly, data science projects often fail due to lack of data or lack of quality or usable data. Secondly, \n",
    "another big issue is that the model is not working well or is somewhat inefficient. Finally, the last issue \n",
    "that can arise is that all aspects of the project seemingly run smoothly, but it doest not achieve what you hoped \n",
    "it would."
   ]
  },
  {
   "cell_type": "markdown",
   "metadata": {},
   "source": [
    "### Python Background Questions"
   ]
  },
  {
   "cell_type": "markdown",
   "metadata": {},
   "source": [
    "These short exercises are a way to familiarize yourself with python. If you find these exercises too difficult, don’t worry! We will review the basics the first day to make sure we are all comfortable coding in Python.\n",
    "\n",
    "Please save your work in this document and `git push` them to the `prework-assignment` repo.\n",
    "\n",
    "----------------------------------------------------------------"
   ]
  },
  {
   "cell_type": "markdown",
   "metadata": {},
   "source": [
    "### Problem 1: Basic Operations"
   ]
  },
  {
   "cell_type": "markdown",
   "metadata": {},
   "source": [
    "You are at Vanessa's Vegan Cafe and you loved it so much you wanna leave a tip. Write a function that takes the amount owed and calculates how much money you pay with an 18% tip. If functions still scare you, just the solution code will do."
   ]
  },
  {
   "cell_type": "code",
   "execution_count": 21,
   "metadata": {},
   "outputs": [
    {
     "name": "stdout",
     "output_type": "stream",
     "text": [
      "14.399999999999999\n"
     ]
    }
   ],
   "source": [
    "\n",
    "\n",
    "def tip_calculator(bill):\n",
    "    tip = bill * .18\n",
    "    return tip\n",
    "print(tip)\n",
    "\n"
   ]
  },
  {
   "cell_type": "markdown",
   "metadata": {},
   "source": [
    "----------------------------------------------------------------"
   ]
  },
  {
   "cell_type": "markdown",
   "metadata": {},
   "source": [
    "### Problem 2: Lists"
   ]
  },
  {
   "cell_type": "markdown",
   "metadata": {},
   "source": [
    "I have a fortune cookie that says my lucky numbers are:\n",
    "\n",
    "       [23, 54, 6, 8, 10078, 3]\n",
    "\n",
    "Write a function that returns 3 lists (if functions still scare you, just the solution code will do)\n",
    "   - replace the number 6 with 1\n",
    "   - the above list in decreasing order\n",
    "   - all values greater than 15"
   ]
  },
  {
   "cell_type": "code",
   "execution_count": 64,
   "metadata": {},
   "outputs": [
    {
     "name": "stdout",
     "output_type": "stream",
     "text": [
      "[10078, 54, 23, 8, 6, 3]\n",
      "[23, 54, 10078]\n",
      "[23, 54, 1, 8, 10078, 3]\n"
     ]
    }
   ],
   "source": [
    "lizt =  [23, 54, 6, 8, 10078, 3]\n",
    "\n",
    "def sorter():\n",
    "    list2 = []\n",
    "    list3 = lizt\n",
    "\n",
    "    list1 = sorted(lizt)\n",
    "    list1.reverse()\n",
    "    print(list1)\n",
    "   \n",
    "    for n in lizt:\n",
    "        if n > 15:\n",
    "            list2.append(n)\n",
    "    print(list2)\n",
    "\n",
    "    list3[2] = 1\n",
    "    print(list3)\n",
    "    \n",
    "sorter()\n",
    "        \n",
    "\n",
    "\n",
    "            \n",
    "    \n",
    "    "
   ]
  },
  {
   "cell_type": "markdown",
   "metadata": {},
   "source": [
    "----------------------------------------------------------------"
   ]
  },
  {
   "cell_type": "markdown",
   "metadata": {},
   "source": [
    "### Problem 3: Basic Operations"
   ]
  },
  {
   "cell_type": "markdown",
   "metadata": {},
   "source": [
    "Let's now take the first step in coding some real data science. Write a statement that loads the `numpy` library into the interpreter and gives it an alias of `np`."
   ]
  },
  {
   "cell_type": "code",
   "execution_count": 12,
   "metadata": {},
   "outputs": [],
   "source": [
    "import numpy as np"
   ]
  },
  {
   "cell_type": "markdown",
   "metadata": {},
   "source": [
    "----------------------------------------------------------------"
   ]
  },
  {
   "cell_type": "markdown",
   "metadata": {},
   "source": [
    "### Problem 4: Numpy"
   ]
  },
  {
   "cell_type": "markdown",
   "metadata": {},
   "source": [
    "Generated a 10x10 `numpy` array with random numbers and slice the array to get the 2nd and 3rd column. Also calculate the average of 6th column using `numpy`."
   ]
  },
  {
   "cell_type": "code",
   "execution_count": 68,
   "metadata": {},
   "outputs": [
    {
     "name": "stdout",
     "output_type": "stream",
     "text": [
      "0.4657317583833772\n",
      "[[0.46794578 0.11352321]\n",
      " [0.85482978 0.56708278]\n",
      " [0.49583162 0.67237434]\n",
      " [0.95059663 0.63746285]\n",
      " [0.03323801 0.70315977]\n",
      " [0.25923008 0.27908917]\n",
      " [0.45145678 0.982924  ]\n",
      " [0.64434247 0.00687148]\n",
      " [0.1445495  0.21951194]\n",
      " [0.03197109 0.1721728 ]]\n"
     ]
    }
   ],
   "source": [
    "new_numpy = np.random.rand(10,10)\n",
    "sliced = new_numpy[:, 2:4]\n",
    "sixth = new_numpy[:, 5]\n",
    "\n",
    "def avr(row):\n",
    "    sum = 0\n",
    "    average = 0\n",
    "    for n in row:\n",
    "        sum += n\n",
    "    average = sum / 10.0\n",
    "    return average\n",
    "\n",
    "average_sixth = avr(sixth)\n",
    "print(average_sixth)\n",
    "print(sliced)\n",
    "\n",
    "\n",
    "\n",
    "\n",
    "  \n",
    "\n",
    "    \n",
    "    "
   ]
  },
  {
   "cell_type": "markdown",
   "metadata": {},
   "source": [
    "----------------------------------------------------------------"
   ]
  },
  {
   "cell_type": "markdown",
   "metadata": {},
   "source": [
    "##### That's it! We look forward to seeing you in class!"
   ]
  }
 ],
 "metadata": {
  "kernelspec": {
   "display_name": "Python 3",
   "language": "python",
   "name": "python3"
  },
  "language_info": {
   "codemirror_mode": {
    "name": "ipython",
    "version": 3
   },
   "file_extension": ".py",
   "mimetype": "text/x-python",
   "name": "python",
   "nbconvert_exporter": "python",
   "pygments_lexer": "ipython3",
   "version": "3.7.3"
  }
 },
 "nbformat": 4,
 "nbformat_minor": 2
}
